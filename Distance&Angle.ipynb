{
  "cells": [
    {
      "cell_type": "markdown",
      "metadata": {
        "id": "m2Hs10rm8z7Q"
      },
      "source": [
        "Importing python packages"
      ]
    },
    {
      "cell_type": "code",
      "execution_count": 37,
      "metadata": {
        "colab": {
          "base_uri": "https://localhost:8080/"
        },
        "id": "x782FozS8oXg",
        "outputId": "3197fa14-5371-40da-f534-96c477aebbc2"
      },
      "outputs": [
        {
          "name": "stdout",
          "output_type": "stream",
          "text": [
            "Requirement already satisfied: numpy in c:\\users\\ddhar\\appdata\\local\\miniconda3\\lib\\site-packages (2.2.3)\n",
            "Requirement already satisfied: MDAnalysis in c:\\users\\ddhar\\appdata\\local\\miniconda3\\lib\\site-packages (2.9.0)\n",
            "Requirement already satisfied: numpy>=1.23.2 in c:\\users\\ddhar\\appdata\\local\\miniconda3\\lib\\site-packages (from MDAnalysis) (2.2.3)\n",
            "Requirement already satisfied: GridDataFormats>=0.4.0 in c:\\users\\ddhar\\appdata\\local\\miniconda3\\lib\\site-packages (from MDAnalysis) (1.0.2)\n",
            "Requirement already satisfied: mmtf-python>=1.0.0 in c:\\users\\ddhar\\appdata\\local\\miniconda3\\lib\\site-packages (from MDAnalysis) (1.1.3)\n",
            "Requirement already satisfied: joblib>=0.12 in c:\\users\\ddhar\\appdata\\local\\miniconda3\\lib\\site-packages (from MDAnalysis) (1.4.2)\n",
            "Requirement already satisfied: scipy>=1.5.0 in c:\\users\\ddhar\\appdata\\local\\miniconda3\\lib\\site-packages (from MDAnalysis) (1.15.2)\n",
            "Requirement already satisfied: matplotlib>=1.5.1 in c:\\users\\ddhar\\appdata\\local\\miniconda3\\lib\\site-packages (from MDAnalysis) (3.10.0)\n",
            "Requirement already satisfied: tqdm>=4.43.0 in c:\\users\\ddhar\\appdata\\local\\miniconda3\\lib\\site-packages (from MDAnalysis) (4.65.0)\n",
            "Requirement already satisfied: threadpoolctl in c:\\users\\ddhar\\appdata\\local\\miniconda3\\lib\\site-packages (from MDAnalysis) (3.5.0)\n",
            "Requirement already satisfied: packaging in c:\\users\\ddhar\\appdata\\local\\miniconda3\\lib\\site-packages (from MDAnalysis) (23.1)\n",
            "Requirement already satisfied: filelock in c:\\users\\ddhar\\appdata\\local\\miniconda3\\lib\\site-packages (from MDAnalysis) (3.17.0)\n",
            "Requirement already satisfied: mda-xdrlib in c:\\users\\ddhar\\appdata\\local\\miniconda3\\lib\\site-packages (from MDAnalysis) (0.2.0)\n",
            "Requirement already satisfied: mrcfile in c:\\users\\ddhar\\appdata\\local\\miniconda3\\lib\\site-packages (from GridDataFormats>=0.4.0->MDAnalysis) (1.5.4)\n",
            "Requirement already satisfied: contourpy>=1.0.1 in c:\\users\\ddhar\\appdata\\local\\miniconda3\\lib\\site-packages (from matplotlib>=1.5.1->MDAnalysis) (1.3.1)\n",
            "Requirement already satisfied: cycler>=0.10 in c:\\users\\ddhar\\appdata\\local\\miniconda3\\lib\\site-packages (from matplotlib>=1.5.1->MDAnalysis) (0.12.1)\n",
            "Requirement already satisfied: fonttools>=4.22.0 in c:\\users\\ddhar\\appdata\\local\\miniconda3\\lib\\site-packages (from matplotlib>=1.5.1->MDAnalysis) (4.56.0)\n",
            "Requirement already satisfied: kiwisolver>=1.3.1 in c:\\users\\ddhar\\appdata\\local\\miniconda3\\lib\\site-packages (from matplotlib>=1.5.1->MDAnalysis) (1.4.8)\n",
            "Requirement already satisfied: pillow>=8 in c:\\users\\ddhar\\appdata\\local\\miniconda3\\lib\\site-packages (from matplotlib>=1.5.1->MDAnalysis) (11.1.0)\n",
            "Requirement already satisfied: pyparsing>=2.3.1 in c:\\users\\ddhar\\appdata\\local\\miniconda3\\lib\\site-packages (from matplotlib>=1.5.1->MDAnalysis) (3.2.1)\n",
            "Requirement already satisfied: python-dateutil>=2.7 in c:\\users\\ddhar\\appdata\\local\\miniconda3\\lib\\site-packages (from matplotlib>=1.5.1->MDAnalysis) (2.9.0.post0)\n",
            "Requirement already satisfied: msgpack>=1.0.0 in c:\\users\\ddhar\\appdata\\local\\miniconda3\\lib\\site-packages (from mmtf-python>=1.0.0->MDAnalysis) (1.1.0)\n",
            "Requirement already satisfied: colorama in c:\\users\\ddhar\\appdata\\local\\miniconda3\\lib\\site-packages (from tqdm>=4.43.0->MDAnalysis) (0.4.6)\n",
            "Requirement already satisfied: six>=1.5 in c:\\users\\ddhar\\appdata\\local\\miniconda3\\lib\\site-packages (from python-dateutil>=2.7->matplotlib>=1.5.1->MDAnalysis) (1.17.0)\n"
          ]
        }
      ],
      "source": [
        "!pip install numpy\n",
        "!pip install MDAnalysis\n",
        "import numpy as np\n",
        "import MDAnalysis as mda"
      ]
    },
    {
      "cell_type": "code",
      "execution_count": 38,
      "metadata": {
        "id": "ZiBWMzjZaJOx"
      },
      "outputs": [],
      "source": [
        "import pandas as pd\n",
        "import matplotlib.pyplot as plt\n",
        "from mpl_toolkits.mplot3d import Axes3D"
      ]
    },
    {
      "cell_type": "markdown",
      "metadata": {
        "id": "GlA8CyBn9Sze"
      },
      "source": [
        "Load the trajectory of the files"
      ]
    },
    {
      "cell_type": "code",
      "execution_count": 39,
      "metadata": {
        "id": "e_Fqz1AC9SHa"
      },
      "outputs": [],
      "source": [
        "u3 = mda.Universe(\"E22G\\\\MD.gro\", \"E22G\\\\3uMD2_noPBC.xtc\")\n",
        "u1 = mda.Universe(\"E22G\\\\MD.gro\", \"E22G\\\\3uMDnoPBC.xtc\")\n",
        "u2 = mda.Universe(\"E22G\\\\MD.gro\", \"E22G\\\\3uMD3_noPBC.xtc\")"
      ]
    },
    {
      "cell_type": "code",
      "execution_count": 40,
      "metadata": {
        "id": "YfU7_NMbZeFJ"
      },
      "outputs": [],
      "source": [
        "#u3 = mda.Universe(\"MD2.gro\", \"WT3uMD3_noPBC\")\n",
        "#u1 = mda.Universe(\"MD2.gro\", \"WT3uMDnoPBC\")\n",
        "#u2 = mda.Universe(\"MD2.gro\", \"WT3uMD2_noPBC\")"
      ]
    },
    {
      "cell_type": "markdown",
      "metadata": {
        "id": "QhFWjNOe-eXq"
      },
      "source": [
        "Define the  atom selections for the benzene ring in Phe19, Phe 20, Tyr10 and Phe4 and the H atom in N-H bond of Gly22/Glu22\n"
      ]
    },
    {
      "cell_type": "code",
      "execution_count": 41,
      "metadata": {
        "id": "tBux5_Zu-yGZ"
      },
      "outputs": [],
      "source": [
        "# the following label is used to select the benzene ring in VMD too -> resid 20 and (name CE1 or name CE2 or name CZ or name CD1 or name CD2 or name CG)\n",
        "benzene_atoms20 = u1.select_atoms(\"(resid 20 and (name CE1 or name CE2 or name CZ or name CD1 or name CD2 or name CG))\")\n",
        "benzene_atoms19 = u1.select_atoms(\"(resid 19 and (name CE1 or name CE2 or name CZ or name CD1 or name CD2 or name CG))\")\n",
        "benzene_atoms10 = u1.select_atoms(\"(resid 10 and (name CE1 or name CE2 or name CZ or name CD1 or name CD2 or name CG))\")\n",
        "benzene_atoms04 = u1.select_atoms(\"(resid 4 and (name CE1 or name CE2 or name CZ or name CD1 or name CD2 or name CG))\")\n",
        "H_atom= u1.select_atoms(\"(resid 22 and name N)\")"
      ]
    },
    {
      "cell_type": "code",
      "execution_count": 66,
      "metadata": {
        "id": "xyIGjWLTAWCX"
      },
      "outputs": [],
      "source": [
        "angles = []\n",
        "dist = []\n",
        "#centroids=[]\n",
        "#output = {}\n",
        "rows = []\n",
        "rows_Res20 = []\n",
        "hist20 ={'3':0 , '3.5':0 , '4':0 ,'4.5':0 , '5':0 ,'5.5':0 , '6':0 }"
      ]
    },
    {
      "cell_type": "markdown",
      "metadata": {
        "id": "Q8zesmq0AfHc"
      },
      "source": [
        "Loop through each frame and get the coordinates for each of them, calculate the coordinates for the centroid of the ary interaction and find the distance and angle for each of the centroid and H-N of residue 22"
      ]
    },
    {
      "cell_type": "code",
      "execution_count": 78,
      "metadata": {
        "id": "sgx-vOOEAesh"
      },
      "outputs": [],
      "source": [
        "benzene_atoms20 = u1.select_atoms(\"(resid 20 and (name CE1 or name CE2 or name CZ or name CD1 or name CD2 or name CG))\")\n",
        "benzene_atoms19 = u1.select_atoms(\"(resid 19 and (name CE1 or name CE2 or name CZ or name CD1 or name CD2 or name CG))\")\n",
        "benzene_atoms10 = u1.select_atoms(\"(resid 10 and (name CE1 or name CE2 or name CZ or name CD1 or name CD2 or name CG))\")\n",
        "benzene_atoms04 = u1.select_atoms(\"(resid 4 and (name CE1 or name CE2 or name CZ or name CD1 or name CD2 or name CG))\")\n",
        "H_atom= u1.select_atoms(\"(resid 22 and name N)\")#using position of N from N-H instead of H\n",
        "angles = []\n",
        "dist = []\n",
        "rows = []\n",
        "rows_Res20 = []\n",
        "for ts in u1.trajectory:\n",
        "  i=1\n",
        "  b20=benzene_atoms20.positions\n",
        "  b19=benzene_atoms19.positions\n",
        "  b10=benzene_atoms10.positions\n",
        "  b04=benzene_atoms04.positions\n",
        "  h22=H_atom.positions\n",
        "  # Calculate the centroid of the benzene ring\n",
        "  c20 = np.mean(b20, axis=0)\n",
        "  c19 = np.mean(b19, axis=0)\n",
        "  c10 = np.mean(b10, axis=0)\n",
        "  c04 = np.mean(b04, axis=0)\n",
        "  #calculate the vector\n",
        "  v20_h=h22-c20\n",
        "  v19_h=h22-c19\n",
        "  v10_h=h22-c10\n",
        "  v04_h=h22-c04\n",
        "  # Calculate the distance between the centroid and the H atom\n",
        "  dist20 = np.linalg.norm(v20_h)\n",
        "  dist19 = np.linalg.norm(v19_h)\n",
        "  dist10 = np.linalg.norm(v10_h)\n",
        "  dist04 = np.linalg.norm(v04_h)\n",
        "\n",
        "  #Calculate the normal vector to the benzene ring plane\n",
        "  vector1_20 = b20[1] - b20[0]\n",
        "  vector2_20 = b20[2] - b20[1]\n",
        "  vector1_10 = b10[1] - b10[0]\n",
        "  vector2_10 = b10[2] - b10[1]\n",
        "  vector1_19 = b19[1] - b19[0]\n",
        "  vector2_19 = b19[2] - b19[1]\n",
        "  vector1_04 = b04[1] - b04[0]\n",
        "  vector2_04 = b04[2] - b04[1]\n",
        "  normal_vector20 = np.cross(vector1_20, vector2_20)\n",
        "  normal_vector19 = np.cross(vector1_19, vector2_19)\n",
        "  normal_vector10 = np.cross(vector1_10, vector2_10)\n",
        "  normal_vector04 = np.cross(vector1_04, vector2_04)\n",
        "\n",
        "  # Normalize the normal vector\n",
        "  normal_vector20 /= np.linalg.norm(normal_vector20)\n",
        "  normal_vector19 /= np.linalg.norm(normal_vector19)\n",
        "  normal_vector10 /= np.linalg.norm(normal_vector10)\n",
        "  normal_vector04 /= np.linalg.norm(normal_vector04)\n",
        "\n",
        "  # Calculate the angle between the normal vector and the vector from centroid to H atom\n",
        "  #20\n",
        "  # dot_product20 = np.dot(v20_h, normal_vector20)\n",
        "  # magnitude_product20 = np.linalg.norm(v20_h) * np.linalg.norm(normal_vector20)\n",
        "  # angle_rad20 = np.arccos(dot_product20 / magnitude_product20)\n",
        "  # angle_deg20 = np.degrees(angle_rad20)\n",
        "  # #19\n",
        "  # dot_product19 = np.dot(v20_h, normal_vector19)\n",
        "  # magnitude_product19 = np.linalg.norm(v19_h) * np.linalg.norm(normal_vector19)\n",
        "  # angle_rad19 = np.arccos(dot_product19 / magnitude_product19)\n",
        "  # angle_deg19 = np.degrees(angle_rad19)\n",
        "\n",
        "\n",
        "  # Calculate the angle between the vector from centroid to H atom and a reference vector passing through centroid(e.g., [1,0,0])\n",
        "  reference_vector20 = normal_vector20\n",
        "  reference_vector19 = normal_vector19\n",
        "  reference_vector10 = normal_vector10\n",
        "  reference_vector04 = normal_vector04\n",
        "\n",
        "  # Calculate the angle between the vector from centroid to H atom and a reference vector passing through centroid(e.g., [1,0,0])\n",
        "  dot_product20 = np.dot(v20_h, reference_vector20)\n",
        "  dot_product19 = np.dot(v19_h, reference_vector19)\n",
        "  dot_product10 = np.dot(v10_h, reference_vector10)\n",
        "  dot_product04 = np.dot(v04_h, reference_vector04)\n",
        "  magnitude_product20 = np.linalg.norm(v20_h) * np.linalg.norm(reference_vector20)\n",
        "  magnitude_product19 = np.linalg.norm(v19_h) * np.linalg.norm(reference_vector19)\n",
        "  magnitude_product10 = np.linalg.norm(v10_h) * np.linalg.norm(reference_vector10)\n",
        "  magnitude_product04 = np.linalg.norm(v04_h) * np.linalg.norm(reference_vector04)\n",
        "  angle_rad20 = np.arccos(dot_product20 / magnitude_product20)\n",
        "  angle_rad19 = np.arccos(dot_product19 / magnitude_product19)\n",
        "  angle_rad10 = np.arccos(dot_product10 / magnitude_product10)\n",
        "  angle_rad04 = np.arccos(dot_product04 / magnitude_product04)\n",
        "  angle_deg20 = np.degrees(angle_rad20)\n",
        "  angle_deg19 = np.degrees(angle_rad19)\n",
        "  angle_deg10 = np.degrees(angle_rad10)\n",
        "  angle_deg04 = np.degrees(angle_rad04)\n",
        "  Res20=[dist20, angle_deg20]\n",
        "  Res19=[dist19, angle_deg19]\n",
        "  Res10=[dist10, angle_deg10]\n",
        "  Res04=[dist04, angle_deg04]\n",
        "  #print(Res20)\n",
        "\n",
        "  rows.append({#\n",
        "    'Residue_20_dist': dist20,\n",
        "    'Residue_20_angle': angle_deg20[0],\n",
        "    'Residue_19_dist': dist19,\n",
        "    'Residue_19_angle': angle_deg19[0],\n",
        "                'Residue_10_dist': dist10,\n",
        "    'Residue_10_angle': angle_deg10[0],\n",
        "                'Residue_04_dist': dist04,\n",
        "    'Residue_04_angle': angle_deg04[0],\n",
        "  })\n",
        "\n",
        "  if dist20 <=5 and (angle_deg20[0] <=60 or angle_deg20[0] >=120):\n",
        "    rows_Res20.append({\n",
        "        'Residue_20_dist': dist20,\n",
        "        'Residue_20_angle': angle_deg20[0]\n",
        "        })\n",
        "    if dist20 <= 3:\n",
        "      temp = hist20['3']\n",
        "      hist20['3'] = temp + 1\n",
        "      temp = 0\n",
        "      #print(hist20)\n",
        "    elif dist20 > 3 and dist20 <=3.5 :\n",
        "      temp = hist20['3.5']\n",
        "      hist20['3.5'] = temp + 1\n",
        "      temp = 0\n",
        "    elif dist20 > 3.5 and dist20 <=4 :\n",
        "      temp = hist20['4']\n",
        "      hist20['4'] = temp + 1\n",
        "      temp = 0\n",
        "    elif dist20 > 4 and dist20 <=4.5 :\n",
        "      temp = hist20['4.5']\n",
        "      hist20['4.5'] = temp + 1\n",
        "      temp = 0\n",
        "    elif dist20 > 4.5 and dist20 <=5 :\n",
        "      temp = hist20['5']\n",
        "      hist20['5'] = temp + 1\n",
        "      temp = 0\n",
        "\n",
        "df1=pd.DataFrame(rows_Res20)\n",
        "df1_all=pd.DataFrame(rows)"
      ]
    },
    {
      "cell_type": "markdown",
      "metadata": {
        "id": "dAfSOUXHuMF0"
      },
      "source": [
        "Repeat for u2 and u3"
      ]
    },
    {
      "cell_type": "code",
      "execution_count": 79,
      "metadata": {
        "colab": {
          "base_uri": "https://localhost:8080/"
        },
        "id": "1hSPsVVyuLrv",
        "outputId": "60ed0d21-4d3c-404b-c6be-690c7787b3af"
      },
      "outputs": [
        {
          "name": "stdout",
          "output_type": "stream",
          "text": [
            "[70.920006 19.931667 35.14    ]   [[-5.989998  -3.9016666 -3.9899979]]\n"
          ]
        }
      ],
      "source": [
        "# the following label is used to select the benzene ring in VMD too -> resid 20 and (name CE1 or name CE2 or name CZ or name CD1 or name CD2 or name CG)\n",
        "benzene_atoms20 = u2.select_atoms(\"(resid 20 and (name CE1 or name CE2 or name CZ or name CD1 or name CD2 or name CG))\")\n",
        "benzene_atoms19 = u2.select_atoms(\"(resid 19 and (name CE1 or name CE2 or name CZ or name CD1 or name CD2 or name CG))\")\n",
        "benzene_atoms10 = u2.select_atoms(\"(resid 10 and (name CE1 or name CE2 or name CZ or name CD1 or name CD2 or name CG))\")\n",
        "benzene_atoms04 = u2.select_atoms(\"(resid 4 and (name CE1 or name CE2 or name CZ or name CD1 or name CD2 or name CG))\")\n",
        "H_atom= u2.select_atoms(\"(resid 22 and name N)\")#using position of N from N-H instead of H\n",
        "angles = []\n",
        "dist = []\n",
        "rows = []\n",
        "rows_Res20 = []\n",
        "for ts in u2.trajectory:\n",
        "  i=1\n",
        "  b20=benzene_atoms20.positions\n",
        "  b19=benzene_atoms19.positions\n",
        "  b10=benzene_atoms10.positions\n",
        "  b04=benzene_atoms04.positions\n",
        "  h22=H_atom.positions\n",
        "  # Calculate the centroid of the benzene ring\n",
        "  c20 = np.mean(b20, axis=0)\n",
        "  c19 = np.mean(b19, axis=0)\n",
        "  c10 = np.mean(b10, axis=0)\n",
        "  c04 = np.mean(b04, axis=0)\n",
        "  #calculate the vector\n",
        "  v20_h=h22-c20\n",
        "  v19_h=h22-c19\n",
        "  v10_h=h22-c10\n",
        "  v04_h=h22-c04\n",
        "  # Calculate the distance between the centroid and the H atom\n",
        "  dist20 = np.linalg.norm(v20_h)\n",
        "  dist19 = np.linalg.norm(v19_h)\n",
        "  dist10 = np.linalg.norm(v10_h)\n",
        "  dist04 = np.linalg.norm(v04_h)\n",
        "\n",
        "  #Calculate the normal vector to the benzene ring plane\n",
        "  vector1_20 = b20[1] - b20[0]\n",
        "  vector2_20 = b20[2] - b20[1]\n",
        "  vector1_10 = b10[1] - b10[0]\n",
        "  vector2_10 = b10[2] - b10[1]\n",
        "  vector1_19 = b19[1] - b19[0]\n",
        "  vector2_19 = b19[2] - b19[1]\n",
        "  vector1_04 = b04[1] - b04[0]\n",
        "  vector2_04 = b04[2] - b04[1]\n",
        "  normal_vector20 = np.cross(vector1_20, vector2_20)\n",
        "  normal_vector19 = np.cross(vector1_19, vector2_19)\n",
        "  normal_vector10 = np.cross(vector1_10, vector2_10)\n",
        "  normal_vector04 = np.cross(vector1_04, vector2_04)\n",
        "\n",
        "  # Normalize the normal vector\n",
        "  normal_vector20 /= np.linalg.norm(normal_vector20)\n",
        "  normal_vector19 /= np.linalg.norm(normal_vector19)\n",
        "  normal_vector10 /= np.linalg.norm(normal_vector10)\n",
        "  normal_vector04 /= np.linalg.norm(normal_vector04)\n",
        "\n",
        "  # Calculate the angle between the vector from centroid to H atom and a reference vector passing through centroid(e.g., [1,0,0])\n",
        "  reference_vector20 = normal_vector20\n",
        "  reference_vector19 = normal_vector19\n",
        "  reference_vector10 = normal_vector10\n",
        "  reference_vector04 = normal_vector04\n",
        "\n",
        "  # Calculate the angle between the vector from centroid to H atom and a reference vector passing through centroid(e.g., [1,0,0])\n",
        "  dot_product20 = np.dot(v20_h, reference_vector20)\n",
        "  dot_product19 = np.dot(v19_h, reference_vector19)\n",
        "  dot_product10 = np.dot(v10_h, reference_vector10)\n",
        "  dot_product04 = np.dot(v04_h, reference_vector04)\n",
        "  magnitude_product20 = np.linalg.norm(v20_h) * np.linalg.norm(reference_vector20)\n",
        "  magnitude_product19 = np.linalg.norm(v19_h) * np.linalg.norm(reference_vector19)\n",
        "  magnitude_product10 = np.linalg.norm(v10_h) * np.linalg.norm(reference_vector10)\n",
        "  magnitude_product04 = np.linalg.norm(v04_h) * np.linalg.norm(reference_vector04)\n",
        "  angle_rad20 = np.arccos(dot_product20 / magnitude_product20)\n",
        "  angle_rad19 = np.arccos(dot_product19 / magnitude_product19)\n",
        "  angle_rad10 = np.arccos(dot_product10 / magnitude_product10)\n",
        "  angle_rad04 = np.arccos(dot_product04 / magnitude_product04)\n",
        "  angle_deg20 = np.degrees(angle_rad20)\n",
        "  angle_deg19 = np.degrees(angle_rad19)\n",
        "  angle_deg10 = np.degrees(angle_rad10)\n",
        "  angle_deg04 = np.degrees(angle_rad04)\n",
        "  Res20=[dist20, angle_deg20]\n",
        "  Res19=[dist19, angle_deg19]\n",
        "  Res10=[dist10, angle_deg10]\n",
        "  Res04=[dist04, angle_deg04]\n",
        "  #print(Res20)\n",
        "\n",
        "  rows.append({#\n",
        "    'Residue_20_dist': dist20,\n",
        "    'Residue_20_angle': angle_deg20[0],\n",
        "    'Residue_19_dist': dist19,\n",
        "    'Residue_19_angle': angle_deg19[0],\n",
        "                'Residue_10_dist': dist10,\n",
        "    'Residue_10_angle': angle_deg10[0],\n",
        "                'Residue_04_dist': dist04,\n",
        "    'Residue_04_angle': angle_deg04[0],\n",
        "  })\n",
        "\n",
        "  if dist20 <=5 and (angle_deg20[0] <=60 or angle_deg20[0] >=120):\n",
        "    rows_Res20.append({\n",
        "        'Residue_20_dist': dist20,\n",
        "        'Residue_20_angle': angle_deg20[0]\n",
        "        })\n",
        "    if dist20 <= 3:\n",
        "      temp = hist20['3']\n",
        "      hist20['3'] = temp + 1\n",
        "      temp = 0\n",
        "      #print(hist20)\n",
        "    elif dist20 > 3 and dist20 <=3.5 :\n",
        "      temp = hist20['3.5']\n",
        "      hist20['3.5'] = temp + 1\n",
        "      temp = 0\n",
        "    elif dist20 > 3.5 and dist20 <=4 :\n",
        "      temp = hist20['4']\n",
        "      hist20['4'] = temp + 1\n",
        "      temp = 0\n",
        "    elif dist20 > 4 and dist20 <=4.5 :\n",
        "      temp = hist20['4.5']\n",
        "      hist20['4.5'] = temp + 1\n",
        "      temp = 0\n",
        "    elif dist20 > 4.5 and dist20 <=5 :\n",
        "      temp = hist20['5']\n",
        "      hist20['5'] = temp + 1\n",
        "      temp = 0\n",
        "\n",
        "df2=pd.DataFrame(rows_Res20)\n",
        "df2_all=pd.DataFrame(rows)\n",
        "#u3\n",
        "benzene_atoms20 = u3.select_atoms(\"(resid 20 and (name CE1 or name CE2 or name CZ or name CD1 or name CD2 or name CG))\")\n",
        "benzene_atoms19 = u3.select_atoms(\"(resid 19 and (name CE1 or name CE2 or name CZ or name CD1 or name CD2 or name CG))\")\n",
        "benzene_atoms10 = u3.select_atoms(\"(resid 10 and (name CE1 or name CE2 or name CZ or name CD1 or name CD2 or name CG))\")\n",
        "benzene_atoms04 = u3.select_atoms(\"(resid 4 and (name CE1 or name CE2 or name CZ or name CD1 or name CD2 or name CG))\")\n",
        "H_atom= u3.select_atoms(\"(resid 22 and name N)\") #using position of N from N-H instead of H\n",
        "angles = []\n",
        "dist = []\n",
        "rows = []\n",
        "rows_Res20 = []\n",
        "for ts in u3.trajectory:\n",
        "  i=1\n",
        "  b20=benzene_atoms20.positions\n",
        "  b19=benzene_atoms19.positions\n",
        "  b10=benzene_atoms10.positions\n",
        "  b04=benzene_atoms04.positions\n",
        "  h22=H_atom.positions\n",
        "  # Calculate the centroid of the benzene ring\n",
        "  c20 = np.mean(b20, axis=0)\n",
        "  c19 = np.mean(b19, axis=0)\n",
        "  c10 = np.mean(b10, axis=0)\n",
        "  c04 = np.mean(b04, axis=0)\n",
        "\n",
        "  #calculate the vector\n",
        "  v20_h=h22-c20\n",
        "  v19_h=h22-c19\n",
        "  v10_h=h22-c10\n",
        "  v04_h=h22-c04\n",
        "\n",
        "  #print(c20, ' ', v20_h)\n",
        "  # Calculate the distance between the centroid and the H atom\n",
        "  dist20 = np.linalg.norm(v20_h)\n",
        "  dist19 = np.linalg.norm(v19_h)\n",
        "  dist10 = np.linalg.norm(v10_h)\n",
        "  dist04 = np.linalg.norm(v04_h)\n",
        "\n",
        "  #Calculate the normal vector to the benzene ring plane\n",
        "  vector1_20 = b20[1] - b20[0]\n",
        "  vector2_20 = b20[2] - b20[1]\n",
        "  vector1_10 = b10[1] - b10[0]\n",
        "  vector2_10 = b10[2] - b10[1]\n",
        "  vector1_19 = b19[1] - b19[0]\n",
        "  vector2_19 = b19[2] - b19[1]\n",
        "  vector1_04 = b04[1] - b04[0]\n",
        "  vector2_04 = b04[2] - b04[1]\n",
        "  normal_vector20 = np.cross(vector1_20, vector2_20)\n",
        "  normal_vector19 = np.cross(vector1_19, vector2_19)\n",
        "  normal_vector10 = np.cross(vector1_10, vector2_10)\n",
        "  normal_vector04 = np.cross(vector1_04, vector2_04)\n",
        "\n",
        "  # Normalize the normal vector\n",
        "  normal_vector20 /= np.linalg.norm(normal_vector20)\n",
        "  normal_vector19 /= np.linalg.norm(normal_vector19)\n",
        "  normal_vector10 /= np.linalg.norm(normal_vector10)\n",
        "  normal_vector04 /= np.linalg.norm(normal_vector04)\n",
        "\n",
        "  # Calculate the angle between the vector from centroid to H atom and a reference vector passing through centroid(e.g., [1,0,0])\n",
        "  reference_vector20 = normal_vector20\n",
        "  reference_vector19 = normal_vector19\n",
        "  reference_vector10 = normal_vector10\n",
        "  reference_vector04 = normal_vector04\n",
        "\n",
        "  # Calculate the angle between the vector from centroid to H atom and a reference vector (e.g., [1,0,0])\n",
        "  dot_product20 = np.dot(v20_h, reference_vector20)\n",
        "  dot_product19 = np.dot(v19_h, reference_vector19)\n",
        "  dot_product10 = np.dot(v10_h, reference_vector10)\n",
        "  dot_product04 = np.dot(v04_h, reference_vector04)\n",
        "  magnitude_product20 = np.linalg.norm(v20_h) * np.linalg.norm(reference_vector20)\n",
        "  magnitude_product19 = np.linalg.norm(v19_h) * np.linalg.norm(reference_vector19)\n",
        "  magnitude_product10 = np.linalg.norm(v10_h) * np.linalg.norm(reference_vector10)\n",
        "  magnitude_product04 = np.linalg.norm(v04_h) * np.linalg.norm(reference_vector04)\n",
        "  angle_rad20 = np.arccos(dot_product20 / magnitude_product20)\n",
        "  angle_rad19 = np.arccos(dot_product19 / magnitude_product19)\n",
        "  angle_rad10 = np.arccos(dot_product10 / magnitude_product10)\n",
        "  angle_rad04 = np.arccos(dot_product04 / magnitude_product04)\n",
        "  angle_deg20 = np.degrees(angle_rad20)\n",
        "  angle_deg19 = np.degrees(angle_rad19)\n",
        "  angle_deg10 = np.degrees(angle_rad10)\n",
        "  angle_deg04 = np.degrees(angle_rad04)\n",
        "  Res20=[dist20, angle_deg20]\n",
        "  Res19=[dist19, angle_deg19]\n",
        "  Res10=[dist10, angle_deg10]\n",
        "  Res04=[dist04, angle_deg04]\n",
        "  #print(Res20)\n",
        "\n",
        "  rows.append({#\n",
        "    'Residue_20_dist': dist20,\n",
        "    'Residue_20_angle': angle_deg20[0],\n",
        "    'Residue_19_dist': dist19,\n",
        "    'Residue_19_angle': angle_deg19[0],\n",
        "                'Residue_10_dist': dist10,\n",
        "    'Residue_10_angle': angle_deg10[0],\n",
        "                'Residue_04_dist': dist04,\n",
        "    'Residue_04_angle': angle_deg04[0],\n",
        "  })\n",
        "  #print(dist20, angle_deg20[0], angle_deg20)\n",
        "\n",
        "  if dist20 <=5 and (angle_deg20[0] <=60 or angle_deg20[0] >=120):\n",
        "    rows_Res20.append({\n",
        "        'Residue_20_dist': dist20,\n",
        "        'Residue_20_angle': angle_deg20[0]\n",
        "        })\n",
        "    if dist20 <= 3:\n",
        "      temp = hist20['3']\n",
        "      hist20['3'] = temp + 1\n",
        "      temp = 0\n",
        "      #print(hist20)\n",
        "    elif dist20 > 3 and dist20 <=3.5 :\n",
        "      temp = hist20['3.5']\n",
        "      hist20['3.5'] = temp + 1\n",
        "      temp = 0\n",
        "    elif dist20 > 3.5 and dist20 <=4 :\n",
        "      temp = hist20['4']\n",
        "      hist20['4'] = temp + 1\n",
        "      temp = 0\n",
        "    elif dist20 > 4 and dist20 <=4.5 :\n",
        "      temp = hist20['4.5']\n",
        "      hist20['4.5'] = temp + 1\n",
        "      temp = 0\n",
        "    elif dist20 > 4.5 and dist20 <=5 :\n",
        "      temp = hist20['5']\n",
        "      hist20['5'] = temp + 1\n",
        "      temp = 0\n",
        "\n",
        "df3=pd.DataFrame(rows_Res20)\n",
        "df3_all=pd.DataFrame(rows)\n",
        "print(c20, ' ', v20_h)\n"
      ]
    },
    {
      "cell_type": "code",
      "execution_count": 45,
      "metadata": {
        "id": "pgRv_D_wbK0f"
      },
      "outputs": [],
      "source": [
        "#df1 = pd.DataFrame(rows)\n",
        "#df2 = pd.DataFrame(rows_Res20)\n",
        "#print(hist20)"
      ]
    },
    {
      "cell_type": "markdown",
      "metadata": {},
      "source": []
    },
    {
      "cell_type": "markdown",
      "metadata": {
        "id": "sIvS3SVRcVs0"
      },
      "source": [
        "To understand the distribution of the angles and the bond length of residue 20 a scatter plot was generated for the diffent run"
      ]
    },
    {
      "cell_type": "code",
      "execution_count": 72,
      "metadata": {
        "colab": {
          "base_uri": "https://localhost:8080/",
          "height": 454
        },
        "id": "3kYZKeJscVMq",
        "outputId": "9c0bb22c-7d3f-4a41-cb03-143ab8589cac"
      },
      "outputs": [
        {
          "data": {
            "image/png": "[encoded data removed]",
            "text/plain": [
              "<Figure size 640x480 with 1 Axes>"
            ]
          },
          "metadata": {},
          "output_type": "display_data"
        }
      ],
      "source": [
        "plt.scatter(df1_all['Residue_20_dist'], df1_all['Residue_20_angle'], color='b', edgecolors='b', label='MD Run1')\n",
        "plt.scatter(df2_all['Residue_20_dist'], df2_all['Residue_20_angle'],color='r',edgecolors='r', label='MD Run2')\n",
        "plt.scatter(df3_all['Residue_20_dist'], df3_all['Residue_20_angle'],color='g',edgecolors='g', label='MD Run3')\n",
        "\n",
        "# plt.scatter(df1_all['Residue_19_dist'], df1_all['Residue_19_angle'], color='b',edgecolors='b')\n",
        "# plt.scatter(df2_all['Residue_19_dist'], df2_all['Residue_19_angle'],color='r', edgecolors='r')\n",
        "# plt.scatter(df3_all['Residue_19_dist'], df3_all['Residue_19_angle'],color='g', edgecolors='g')\n",
        "\n",
        "plt.xlabel('Distance Å', fontdict={'family': 'DejaVu Sans', 'size': 14})\n",
        "plt.xlim(right=5)\n",
        "plt.ylabel('Angle (degree)', fontdict={'family': 'DejaVu Sans', 'size': 14})\n",
        "plt.legend(frameon=False, prop={'family': 'DejaVu Sans', 'size': 14})\n",
        "plt.savefig('scatter.png', dpi=600)\n",
        "plt.show()\n"
      ]
    },
    {
      "cell_type": "markdown",
      "metadata": {
        "id": "n87QyyyQZ4aq"
      },
      "source": [
        "Plotting disjointed histogram"
      ]
    },
    {
      "cell_type": "code",
      "execution_count": 73,
      "metadata": {
        "colab": {
          "base_uri": "https://localhost:8080/",
          "height": 449
        },
        "id": "LA-LqzMiJKX0",
        "outputId": "9951c7b4-ee45-4cd0-d857-3353b05960e3"
      },
      "outputs": [
        {
          "data": {
            "image/png": "[encoded data removed]",
            "text/plain": [
              "<Figure size 640x480 with 1 Axes>"
            ]
          },
          "metadata": {},
          "output_type": "display_data"
        },
        {
          "data": {
            "text/plain": [
              "{'3': 0, '3.5': 27, '4': 108, '4.5': 63, '5': 35, '5.5': 0, '6': 0}"
            ]
          },
          "execution_count": 73,
          "metadata": {},
          "output_type": "execute_result"
        }
      ],
      "source": [
        "#Plot histogram\n",
        "plt.bar(hist20.keys() , hist20.values())\n",
        "plt.xlabel('Distance Å')\n",
        "plt.ylabel('Number of Occurences n')\n",
        "plt.show()\n",
        "hist20\n"
      ]
    },
    {
      "cell_type": "code",
      "execution_count": 74,
      "metadata": {
        "colab": {
          "base_uri": "https://localhost:8080/",
          "height": 53
        },
        "id": "ViGFHlcEiMIk",
        "outputId": "c5724792-2797-43ee-85c8-7c50c38e90a8"
      },
      "outputs": [
        {
          "data": {
            "text/plain": [
              "0     4.302652\n",
              "1     3.821972\n",
              "2     4.202617\n",
              "3     3.651454\n",
              "4     3.868045\n",
              "5     4.834505\n",
              "6     4.003883\n",
              "7     4.152853\n",
              "8     3.683150\n",
              "9     3.464328\n",
              "10    3.887299\n",
              "11    4.835020\n",
              "12    3.587465\n",
              "13    4.032568\n",
              "14    3.842179\n",
              "15    3.510456\n",
              "16    3.745305\n",
              "17    3.899847\n",
              "18    4.443103\n",
              "19    3.450083\n",
              "20    3.691048\n",
              "21    3.559660\n",
              "22    3.789224\n",
              "23    4.219220\n",
              "24    3.362838\n",
              "25    3.540569\n",
              "26    4.125371\n",
              "27    4.112785\n",
              "28    3.504717\n",
              "29    3.608199\n",
              "30    4.391855\n",
              "31    3.588810\n",
              "32    3.439587\n",
              "33    3.516424\n",
              "34    4.146374\n",
              "35    3.763979\n",
              "36    4.403920\n",
              "37    4.919910\n",
              "38    4.384310\n",
              "39    4.583228\n",
              "40    3.676858\n",
              "41    4.883702\n",
              "42    4.853532\n",
              "43    4.305669\n",
              "44    3.713433\n",
              "45    3.873514\n",
              "46    3.612334\n",
              "47    4.684174\n",
              "48    3.513240\n",
              "49    4.372664\n",
              "50    3.538798\n",
              "51    3.526055\n",
              "52    4.570077\n",
              "53    4.522051\n",
              "54    3.451000\n",
              "Name: Residue_20_dist, dtype: float32"
            ]
          },
          "execution_count": 74,
          "metadata": {},
          "output_type": "execute_result"
        }
      ],
      "source": [
        "df3['Residue_20_dist']"
      ]
    },
    {
      "cell_type": "markdown",
      "metadata": {
        "id": "ByVAWv6OZxw-"
      },
      "source": [
        "Plotting a continuous histogram"
      ]
    },
    {
      "cell_type": "code",
      "execution_count": null,
      "metadata": {
        "colab": {
          "base_uri": "https://localhost:8080/",
          "height": 454
        },
        "id": "3r-vWryZX_jU",
        "outputId": "d2f747b5-677b-42ba-a5d2-079abfc26b90"
      },
      "outputs": [
        {
          "data": {
            "image/png": "[encoded data removed]",
            "text/plain": [
              "<Figure size 640x480 with 1 Axes>"
            ]
          },
          "metadata": {},
          "output_type": "display_data"
        },
        {
          "name": "stdout",
          "output_type": "stream",
          "text": [
            "9.8 13.399999999999999 14.6\n",
            "11.266666666666666\n",
            "1.5434449203720293\n",
            "49 67 73\n",
            "133.66666666666666\n",
            "7.717224601860151\n"
          ]
        }
      ],
      "source": [
        "bin_edges = np.arange(2.5, 5.0, 0.1)\n",
        "#print(rows_Res20)\n",
        "# Calculate histogram\n",
        "hist_df1, _ = np.histogram(df1['Residue_20_dist'], bins=bin_edges)\n",
        "hist_df1_percentage = hist_df1 / 500 * 100  # Convert to percentage\n",
        "\n",
        "\n",
        "hist_df2, _ = np.histogram(df2['Residue_20_dist'], bins=bin_edges)\n",
        "hist_df2_percentage = hist_df2 / 500 * 100  # Convert to percentage\n",
        "hist_df3, _ = np.histogram(df3['Residue_20_dist'], bins=bin_edges)\n",
        "\n",
        "hist_df3_percentage = hist_df3 / 500 * 100  # Convert to percentage\n",
        "# Plot histogram\n",
        "plt.bar(bin_edges[:-1], hist_df1_percentage, width=0.1, align='edge', color='white', alpha=0.8, edgecolor='blue',hatch='', label='MD Run 1')\n",
        "plt.bar(bin_edges[:-1], hist_df2_percentage, width=0.1, align='edge', color='red', alpha=0.3, edgecolor='brown', hatch='', label='MD Run 2')\n",
        "plt.bar(bin_edges[:-1], hist_df3_percentage, width=0.1, align='edge', color='black', alpha=0.5, edgecolor='black',hatch='', label='MD Run 3')\n",
        "plt.xlabel('Distance Å', fontdict={'family': 'DejaVu Sans', 'size': 14})\n",
        "plt.ylabel('Occurrences%', fontdict={'family': 'DejaVu Sans', 'size': 14})\n",
        "plt.legend(frameon=False, prop={'family': 'DejaVu Sans', 'size': 14})\n",
        "plt.savefig('histogram.png', dpi=600)\n",
        "plt.show()\n",
        "print(np.sum(np.array(hist_df1_percentage)), np.sum(np.array(hist_df2_percentage)), (np.sum(np.array(hist_df3_percentage))))\n",
        "mean_df1_percentage=np.sum(np.array(hist_df3_percentage)+np.array(hist_df2_percentage)+np.array(hist_df1_percentage))/3\n",
        "print(mean_df1_percentage)\n",
        "#stdandard deviation\n",
        "std_df1_percentage = np.std([np.sum(np.array(hist_df3_percentage)), np.sum(np.array(hist_df2_percentage)), np.sum(np.array(hist_df1_percentage))])\n",
        "print(std_df1_percentage)\n",
        "\n",
        "print(np.sum(np.array(hist_df1)),np.sum(np.array(hist_df2)),(np.sum(np.array(hist_df3))))\n",
        "mean_hist_df1=np.sum(np.array(hist_df1))+np.sum(np.array(hist_df2))+np.sum(np.array(hist_df3))/3\n",
        "print(mean_hist_df1)\n",
        "#standard deviation\n",
        "std_hist_df1 = np.std([np.sum(np.array(hist_df3)), np.sum(np.array(hist_df2)), np.sum(np.array(hist_df1))])\n",
        "print(std_hist_df1)\n"
      ]
    },
    {
      "cell_type": "code",
      "execution_count": 50,
      "metadata": {
        "id": "q7NyF59VbPTi"
      },
      "outputs": [],
      "source": [
        "df2.to_csv('Run2.csv')\n",
        "df1.to_csv('Run1.csv')\n",
        "df3.to_csv('Run3.csv')\n",
        "\n",
        "df2_all.to_csv('Run_All2.csv')\n",
        "df1_all.to_csv('Run_All1.csv')\n",
        "df3_all.to_csv('Run_All3.csv')\n"
      ]
    },
    {
      "cell_type": "code",
      "execution_count": 51,
      "metadata": {
        "colab": {
          "base_uri": "https://localhost:8080/"
        },
        "id": "1aIl9rSXBrXL",
        "outputId": "cbfd8738-e2cb-457b-e2f1-021eb22186d7"
      },
      "outputs": [],
      "source": [
        "#print(output)"
      ]
    },
    {
      "cell_type": "markdown",
      "metadata": {
        "id": "rZ_1FDgPgR28"
      },
      "source": [
        "vector angle for c20"
      ]
    },
    {
      "cell_type": "code",
      "execution_count": 52,
      "metadata": {
        "colab": {
          "base_uri": "https://localhost:8080/"
        },
        "id": "0nsOP2B_gRSD",
        "outputId": "db5c6366-1c2f-4db2-dc53-7f27ae14ae13"
      },
      "outputs": [
        {
          "name": "stdout",
          "output_type": "stream",
          "text": [
            "[np.float32(8.830124), array([90.977165], dtype=float32), array([-0.24983925,  0.9682759 , -0.00471358], dtype=float32), array([77.045006, 27.56833 , 21.971666], dtype=float32)]\n"
          ]
        }
      ],
      "source": [
        "# the following label is used to select the benzene ring in VMD too -> resid 20 and (name CE1 or name CE2 or name CZ or name CD1 or name CD2 or name CG)\n",
        "benzene_atoms20 = u2.select_atoms(\"(resid 20 and (name CE1 or name CE2 or name CZ or name CD1 or name CD2 or name CG))\")\n",
        "H_atom= u2.select_atoms(\"(resid 22 and name N)\")\n",
        "angles = []\n",
        "dist = []\n",
        "rows = []\n",
        "rows_Res20 = []\n",
        "for ts in u2.trajectory:\n",
        "  b20=benzene_atoms20.positions\n",
        "  h22=H_atom.positions\n",
        "\n",
        "  # Calculate the centroid of the benzene ring\n",
        "  c20 = np.mean(b20, axis=0)\n",
        "\n",
        "  #calculate the vector\n",
        "  v20_h=h22-c20\n",
        "\n",
        "  #Calculate the normal vector to the benzene ring plane\n",
        "  vector1 = b20[1] - b20[0]\n",
        "  vector2 = b20[2] - b20[1]\n",
        "  normal_vector = np.cross(vector1, vector2)\n",
        "\n",
        "  # Normalize the normal vector\n",
        "  normal_vector /= np.linalg.norm(normal_vector)\n",
        "\n",
        "  # Calculate the angle between the normal vector and the vector from centroid to H atom\n",
        "  dot_product20 = np.dot(v20_h, normal_vector)\n",
        "  magnitude_product20 = np.linalg.norm(v20_h) * np.linalg.norm(normal_vector)\n",
        "  angle_rad20 = np.arccos(dot_product20 / magnitude_product20)\n",
        "  angle_deg20 = np.degrees(angle_rad20)\n",
        "\n",
        "  # Calculate the distance between the centroid and the H atom\n",
        "  dist20 = np.linalg.norm(v20_h)\n",
        "\n",
        "  # Calculate the angle between the vector from centroid to H atom and a reference vector (e.g., [1,0,0])\n",
        "  #reference_vector = np.array([0, 1, 0])\n",
        "  #dot_product20 = np.dot(v20_h, reference_vector)\n",
        "\n",
        "  # magnitude_product20 = np.linalg.norm(v20_h) * np.linalg.norm(reference_vector)\n",
        "\n",
        "  # angle_rad20 = np.arccos(dot_product20 / magnitude_product20)\n",
        "\n",
        "  # angle_deg20 = np.degrees(angle_rad20)\n",
        "\n",
        "  Res20=[dist20, angle_deg20, normal_vector, c20]\n",
        "\n",
        "print(Res20)"
      ]
    },
    {
      "cell_type": "code",
      "execution_count": 53,
      "metadata": {
        "id": "EckAuL9823DH"
      },
      "outputs": [
        {
          "data": {
            "image/png": "[encoded data removed]",
            "text/plain": [
              "<Figure size 640x480 with 1 Axes>"
            ]
          },
          "metadata": {},
          "output_type": "display_data"
        }
      ],
      "source": [
        "# Assuming you have calculated v20_h, angle_deg20, and dist20\n",
        "\n",
        "# Define the reference vector\n",
        "#reference_vector = np.array([0, 10, 0])\n",
        "\n",
        "# Define the benzene ring coordinates (assuming b20 contains the coordinates)\n",
        "benzene_ring_x = b20[:, 0]\n",
        "benzene_ring_y = b20[:, 1]\n",
        "benzene_ring_z = b20[:, 2]\n",
        "\n",
        "# Plot the vectors\n",
        "fig = plt.figure()\n",
        "ax = fig.add_subplot(111, projection='3d')\n",
        "\n",
        "# Plot the reference vector\n",
        "#ax.quiver(0, 0, 0, reference_vector[0], reference_vector[1], reference_vector[2], color='r', label='Reference Vector', arrow_length_ratio=0.6)\n",
        "\n",
        "# Plot v20_h\n",
        "v20_h_ = v20_h[0]\n",
        "n20 = normal_vector\n",
        "ax.quiver(c20[0], c20[1], c20[2], v20_h_[0], v20_h_[1], v20_h_[2], color='b', label='v20', arrow_length_ratio=0.6)\n",
        "ax.quiver(c20[0], c20[1], c20[2], n20[0], n20[1], n20[2], color='g', label='n20')\n",
        "# Plot the benzene ring\n",
        "ax.plot(benzene_ring_x, benzene_ring_y, benzene_ring_z, color='black', label='Benzene Ring')\n",
        "\n",
        "# Set plot limits and labels\n",
        "ax.set_xlim([min(c20[0], 0, v20_h_[0]), max(c20[0], 0, v20_h_[0])])\n",
        "ax.set_ylim([max(c20[1], 0, v20_h_[1]), min(c20[1], 0, v20_h_[1])])\n",
        "ax.set_zlim([min(c20[2], 0, v20_h_[2]), max(c20[2], 0, v20_h_[2])])\n",
        "\n",
        "ax.set_xlabel('X')\n",
        "ax.set_ylabel('Y')\n",
        "ax.set_zlabel('Z')\n",
        "\n",
        "# Plot angle between vectors\n",
        "angle_deg_scalar = angle_deg20.item()\n",
        "ax.text(0, 0, 0, f'{angle_deg_scalar:.2f}°', color='g', fontsize=12)  # Display the angle between vectors\n",
        "\n",
        "# Set title and legend\n",
        "plt.title('Vector Visualization')\n",
        "plt.legend()\n",
        "\n",
        "# Show plot\n",
        "plt.show()"
      ]
    },
    {
      "cell_type": "markdown",
      "metadata": {
        "id": "otAS06hfUvbZ"
      },
      "source": [
        "To find the number of interactions between the C5 H bond [**The Realm of Unconventional Noncovalent Interactions in Proteins: Their Significance in Structure and Function**](https://www.ncbi.nlm.nih.gov/pmc/articles/PMC10308531/#ref37)      [**A prevalent intraresidue hydrogen bond stabilizes proteins**](https://www.ncbi.nlm.nih.gov/pmc/articles/PMC5110370/) To work on this we need to start with finding the six Gly in AB40 E22G variant **G9, G22, G25 G29, G33, G37 and G38**"
      ]
    },
    {
      "cell_type": "code",
      "execution_count": 54,
      "metadata": {
        "id": "n8-_pYQNWc9B"
      },
      "outputs": [],
      "source": [
        "#for MD run1\n",
        "hist_g1 ={'Gly9':0  , 'Gly25':0 ,'Gly29':0 , 'Gly33':0 ,'Gly37':0 , 'Gly38':0 , 'Gly22':0 }\n",
        "g9_H=u1.select_atoms(\"(resid 9 and name H)\")\n",
        "g9_O=u1.select_atoms(\"(resid 9 and name O)\")\n",
        "g22_H=u1.select_atoms(\"(resid 22 and name H)\")\n",
        "g22_O=u1.select_atoms(\"(resid 22 and name O)\")\n",
        "g25_H=u1.select_atoms(\"(resid 25 and name H)\")\n",
        "g25_O=u1.select_atoms(\"(resid 25 and name O)\")\n",
        "g29_H=u1.select_atoms(\"(resid 29 and name H)\")\n",
        "g29_O=u1.select_atoms(\"(resid 29 and name O)\")\n",
        "g33_H=u1.select_atoms(\"(resid 33 and name H)\")\n",
        "g33_O=u1.select_atoms(\"(resid 33 and name O)\")\n",
        "g37_H=u1.select_atoms(\"(resid 37 and name H)\")\n",
        "g37_O=u1.select_atoms(\"(resid 37 and name O)\")\n",
        "g38_H=u1.select_atoms(\"(resid 38 and name H)\")\n",
        "g38_O=u1.select_atoms(\"(resid 38 and name O)\")\n",
        "\n",
        "dist = []\n",
        "frame_count=0\n",
        "for ts in u1.trajectory:\n",
        "  frame_count+=1\n",
        "  for g_H in g9_H,g22_H,g25_H,g29_H,g33_H,g38_H:\n",
        "    gH=g_H.positions\n",
        "    for g_O in g9_O,g22_O,g25_O,g29_O,g33_O,g38_O:\n",
        "      gO=g_O.positions\n",
        "      gC5_O_H=gO-gH #vector for the C5 hydrogen bonding in glycine\n",
        "      d=np.linalg.norm(gC5_O_H)\n",
        "      #oxygen–hydrogen distances <2.61 Å ref. in link,\n",
        "      if d<2.61 :\n",
        "        if g_H==g9_H:\n",
        "          dist.append({\n",
        "              'Frame Number':frame_count,\n",
        "              'Gly':'9',\n",
        "              'dist': d})\n",
        "          temp = hist_g1['Gly9']\n",
        "          hist_g1['Gly9'] = temp + 1\n",
        "        elif g_H==g25_H:\n",
        "          dist.append({\n",
        "              'Frame Number':frame_count,\n",
        "              'Gly':'25',\n",
        "              'dist': d})\n",
        "          temp = hist_g1['Gly25']\n",
        "          hist_g1['Gly25'] = temp + 1\n",
        "        elif g_H==g29_H:\n",
        "          dist.append({\n",
        "              'Frame Number':frame_count,\n",
        "              'Gly':'29',\n",
        "              'dist': d})\n",
        "          temp = hist_g1['Gly29']\n",
        "          hist_g1['Gly29'] = temp + 1\n",
        "        elif g_H==g33_H:\n",
        "          dist.append({\n",
        "              'Frame Number':frame_count,\n",
        "              'Gly':'33',\n",
        "              'dist': d})\n",
        "          temp = hist_g1['Gly33']\n",
        "          hist_g1['Gly33'] = temp + 1\n",
        "        elif g_H==g38_H:\n",
        "          dist.append({\n",
        "              'Frame Number':frame_count,\n",
        "              'Gly':'38',\n",
        "              'dist': d})\n",
        "          temp = hist_g1['Gly38']\n",
        "          hist_g1['Gly38'] = temp + 1\n",
        "        elif g_H==g22_H:\n",
        "          dist.append({\n",
        "              'Frame Number':frame_count,\n",
        "              'Gly':'22',\n",
        "              'dist': d})\n",
        "          temp = hist_g1['Gly22']\n",
        "          hist_g1['Gly22'] = temp + 1\n",
        "\n",
        "df_gly1=pd.DataFrame(dist)\n",
        "\n",
        "#for MD run 2\n",
        "hist_g2 ={'Gly9':0 , 'Gly25':0 ,'Gly29':0 , 'Gly33':0 ,'Gly37':0 , 'Gly38':0 , 'Gly22':0 }\n",
        "g9_H=u2.select_atoms(\"(resid 9 and name H)\")\n",
        "g9_O=u2.select_atoms(\"(resid 9 and name O)\")\n",
        "g22_H=u2.select_atoms(\"(resid 22 and name H)\")\n",
        "g22_O=u2.select_atoms(\"(resid 22 and name O)\")\n",
        "g25_H=u2.select_atoms(\"(resid 25 and name H)\")\n",
        "g25_O=u2.select_atoms(\"(resid 25 and name O)\")\n",
        "g29_H=u2.select_atoms(\"(resid 29 and name H)\")\n",
        "g29_O=u2.select_atoms(\"(resid 29 and name O)\")\n",
        "g33_H=u2.select_atoms(\"(resid 33 and name H)\")\n",
        "g33_O=u2.select_atoms(\"(resid 33 and name O)\")\n",
        "g37_H=u2.select_atoms(\"(resid 37 and name H)\")\n",
        "g37_O=u2.select_atoms(\"(resid 37 and name O)\")\n",
        "g38_H=u2.select_atoms(\"(resid 38 and name H)\")\n",
        "g38_O=u2.select_atoms(\"(resid 38 and name O)\")\n",
        "\n",
        "dist = []\n",
        "frame_count=0\n",
        "for ts in u2.trajectory:\n",
        "  frame_count+=1\n",
        "  for g_H in g9_H,g22_H,g25_H,g29_H,g33_H,g38_H:\n",
        "    gH=g_H.positions\n",
        "    for g_O in g9_O,g22_O,g25_O,g29_O,g33_O,g38_O:\n",
        "      gO=g_O.positions\n",
        "      gC5_O_H=gO-gH #vector for the C5 hydrogen bonding in glycine\n",
        "      d=np.linalg.norm(gC5_O_H)\n",
        "      #oxygen–hydrogen distances <2.61 Å ref. in link,\n",
        "      if d<2.61 :\n",
        "        if g_H==g9_H:\n",
        "          dist.append({\n",
        "              'Frame Number':frame_count,\n",
        "              'Gly':'9',\n",
        "              'dist': d})\n",
        "          temp = hist_g2['Gly9']\n",
        "          hist_g2['Gly9'] = temp + 1\n",
        "        elif g_H==g25_H:\n",
        "          dist.append({\n",
        "              'Frame Number':frame_count,\n",
        "              'Gly':'25',\n",
        "              'dist': d})\n",
        "          temp = hist_g2['Gly25']\n",
        "          hist_g2['Gly25'] = temp + 1\n",
        "        elif g_H==g29_H:\n",
        "          dist.append({\n",
        "              'Frame Number':frame_count,\n",
        "              'Gly':'29',\n",
        "              'dist': d})\n",
        "          temp = hist_g2['Gly29']\n",
        "          hist_g2['Gly29'] = temp + 1\n",
        "        elif g_H==g33_H:\n",
        "          dist.append({\n",
        "              'Frame Number':frame_count,\n",
        "              'Gly':'33',\n",
        "              'dist': d})\n",
        "          temp = hist_g2['Gly33']\n",
        "          hist_g2['Gly33'] = temp + 1\n",
        "        elif g_H==g38_H:\n",
        "          dist.append({\n",
        "              'Frame Number':frame_count,\n",
        "              'Gly':'38',\n",
        "              'dist': d})\n",
        "          temp = hist_g2['Gly38']\n",
        "          hist_g2['Gly38'] = temp + 1\n",
        "        elif g_H==g22_H:\n",
        "          dist.append({\n",
        "              'Frame Number':frame_count,\n",
        "              'Gly':'22',\n",
        "              'dist': d})\n",
        "          temp = hist_g2['Gly22']\n",
        "          hist_g2['Gly22'] = temp + 1\n",
        "\n",
        "df_gly2=pd.DataFrame(dist)\n",
        "\n",
        "#for MD run 3\n",
        "hist_g3 ={'Gly9':0  , 'Gly25':0 ,'Gly29':0 , 'Gly33':0 ,'Gly37':0 , 'Gly38':0, 'Gly22':0 }\n",
        "g9_H=u3.select_atoms(\"(resid 9 and name H)\")\n",
        "g9_O=u3.select_atoms(\"(resid 9 and name O)\")\n",
        "g22_H=u3.select_atoms(\"(resid 22 and name H)\")\n",
        "g22_O=u3.select_atoms(\"(resid 22 and name O)\")\n",
        "g25_H=u3.select_atoms(\"(resid 25 and name H)\")\n",
        "g25_O=u3.select_atoms(\"(resid 25 and name O)\")\n",
        "g29_H=u3.select_atoms(\"(resid 29 and name H)\")\n",
        "g29_O=u3.select_atoms(\"(resid 29 and name O)\")\n",
        "g33_H=u3.select_atoms(\"(resid 33 and name H)\")\n",
        "g33_O=u3.select_atoms(\"(resid 33 and name O)\")\n",
        "g37_H=u3.select_atoms(\"(resid 37 and name H)\")\n",
        "g37_O=u3.select_atoms(\"(resid 37 and name O)\")\n",
        "g38_H=u3.select_atoms(\"(resid 38 and name H)\")\n",
        "g38_O=u3.select_atoms(\"(resid 38 and name O)\")\n",
        "\n",
        "dist = []\n",
        "frame_count=0\n",
        "for ts in u3.trajectory:\n",
        "  frame_count+=1\n",
        "  for g_H in g9_H,g22_H,g25_H,g29_H,g33_H,g38_H:\n",
        "    gH=g_H.positions\n",
        "    for g_O in g9_O,g22_O,g25_O,g29_O,g33_O,g38_O:\n",
        "      gO=g_O.positions\n",
        "      gC5_O_H=gO-gH #vector for the C5 hydrogen bonding in glycine\n",
        "      d=np.linalg.norm(gC5_O_H)\n",
        "      #oxygen–hydrogen distances <2.61 Å ref. in link,\n",
        "      if d<2.61 :\n",
        "        if g_H==g9_H:\n",
        "          dist.append({\n",
        "              'Frame Number':frame_count,\n",
        "              'Gly':'9',\n",
        "              'dist': d})\n",
        "          temp = hist_g3['Gly9']\n",
        "          hist_g3['Gly9'] = temp + 1\n",
        "        elif g_H==g25_H:\n",
        "          dist.append({\n",
        "              'Frame Number':frame_count,\n",
        "              'Gly':'25',\n",
        "              'dist': d})\n",
        "          temp = hist_g3['Gly25']\n",
        "          hist_g3['Gly25'] = temp + 1\n",
        "        elif g_H==g29_H:\n",
        "          dist.append({\n",
        "              'Frame Number':frame_count,\n",
        "              'Gly':'29',\n",
        "              'dist': d})\n",
        "          temp = hist_g3['Gly29']\n",
        "          hist_g3['Gly29'] = temp + 1\n",
        "        elif g_H==g33_H:\n",
        "          dist.append({\n",
        "              'Frame Number':frame_count,\n",
        "              'Gly':'33',\n",
        "              'dist': d})\n",
        "          temp = hist_g3['Gly33']\n",
        "          hist_g3['Gly33'] = temp + 1\n",
        "        elif g_H==g38_H:\n",
        "          dist.append({\n",
        "              'Frame Number':frame_count,\n",
        "              'Gly':'38',\n",
        "              'dist': d})\n",
        "          temp = hist_g3['Gly38']\n",
        "          hist_g3['Gly38'] = temp + 1\n",
        "        elif g_H==g22_H:\n",
        "          dist.append({\n",
        "              'Frame Number':frame_count,\n",
        "              'Gly':'22',\n",
        "              'dist': d})\n",
        "          temp = hist_g3['Gly22']\n",
        "          hist_g3['Gly22'] = temp + 1\n",
        "\n",
        "df_gly3=pd.DataFrame(dist)\n",
        "\n"
      ]
    },
    {
      "cell_type": "code",
      "execution_count": 55,
      "metadata": {
        "colab": {
          "base_uri": "https://localhost:8080/"
        },
        "id": "3lMAXuWY1r9J",
        "outputId": "6fb00bc9-0add-461f-fbd0-b57c73f5632e"
      },
      "outputs": [
        {
          "name": "stdout",
          "output_type": "stream",
          "text": [
            "\n",
            " {'Gly9': 23, 'Gly25': 140, 'Gly29': 78, 'Gly33': 40, 'Gly37': 0, 'Gly38': 59, 'Gly22': 85} \n",
            " {'Gly9': 19, 'Gly25': 166, 'Gly29': 64, 'Gly33': 109, 'Gly37': 0, 'Gly38': 78, 'Gly22': 62} \n",
            " {'Gly9': 2, 'Gly25': 197, 'Gly29': 171, 'Gly33': 51, 'Gly37': 0, 'Gly38': 49, 'Gly22': 49} \n",
            "\n"
          ]
        }
      ],
      "source": [
        "print ('\\n', hist_g1, '\\n',hist_g2, '\\n', hist_g3, '\\n')"
      ]
    },
    {
      "cell_type": "code",
      "execution_count": 56,
      "metadata": {
        "id": "IrD1OTyezLL9"
      },
      "outputs": [],
      "source": [
        "for i in hist_g3.keys():\n",
        "  hist_g1[i]=(hist_g1[i]/500)*100\n",
        "  hist_g2[i]=(hist_g2[i]/500)*100\n",
        "  hist_g3[i]=(hist_g3[i]/500)*100"
      ]
    },
    {
      "cell_type": "code",
      "execution_count": 57,
      "metadata": {
        "id": "SlZEBQfw-3vq"
      },
      "outputs": [],
      "source": [
        "g3 ={'G9':0  , 'G25':0 ,'G29':0 , 'G33':0 ,'G37':0 , 'G38':0, 'G22':0 }\n",
        "g2 ={'G9':0  , 'G25':0 ,'G29':0 , 'G33':0 ,'G37':0 , 'G38':0, 'G22':0 }\n",
        "g1 ={'G9':0  , 'G25':0 ,'G29':0 , 'G33':0 ,'G37':0 , 'G38':0, 'G22':0 }\n",
        "for i in hist_g3.keys():\n",
        "  if i=='Gly9':\n",
        "    g1['G9']=hist_g1[i]\n",
        "    g2['G9']=hist_g2[i]\n",
        "    g3['G9']=hist_g3[i]\n",
        "  if i=='Gly25':\n",
        "    g1['G25']=hist_g1[i]\n",
        "    g2['G25']=hist_g2[i]\n",
        "    g3['G25']=hist_g3[i]\n",
        "  if i=='Gly29':\n",
        "    g1['G29']=hist_g1[i]\n",
        "    g2['G29']=hist_g2[i]\n",
        "    g3['G29']=hist_g3[i]\n",
        "  if i=='Gly33':\n",
        "    g1['G33']=hist_g1[i]\n",
        "    g2['G33']=hist_g2[i]\n",
        "    g3['G33']=hist_g3[i]\n",
        "  if i=='Gly37':\n",
        "    g1['G37']=hist_g1[i]\n",
        "    g2['G37']=hist_g2[i]\n",
        "    g3['G37']=hist_g3[i]\n",
        "  if i=='Gly38':\n",
        "    g1['G38']=hist_g1[i]\n",
        "    g2['G38']=hist_g2[i]\n",
        "    g3['G38']=hist_g3[i]\n",
        "  if i=='Gly22':\n",
        "    g1['G22']=hist_g1[i]\n",
        "    g2['G22']=hist_g2[i]\n",
        "    g3['G22']=hist_g3[i]\n",
        "#value=g1.pop('G22')\n",
        "#g1['E22']=value\n",
        "#value=g2.pop('G22')\n",
        "#g2['E22']=value\n",
        "#value=g3.pop('G22')\n",
        "#g3['E22']=value"
      ]
    },
    {
      "cell_type": "code",
      "execution_count": 58,
      "metadata": {
        "colab": {
          "base_uri": "https://localhost:8080/",
          "height": 460
        },
        "id": "t3GgXo2pkKPf",
        "outputId": "1518cf61-4950-427c-84a8-72f877add04b"
      },
      "outputs": [
        {
          "data": {
            "image/png": "[encoded data removed]",
            "text/plain": [
              "<Figure size 640x480 with 1 Axes>"
            ]
          },
          "metadata": {},
          "output_type": "display_data"
        }
      ],
      "source": [
        "plt.bar(g1.keys() , g1.values(), color='white', alpha=0.8, edgecolor='blue',hatch='', label='MD Run 1')\n",
        "plt.bar(g2.keys() , g2.values(), color='red', alpha=0.5, edgecolor='brown',hatch='', label='MD Run 2')\n",
        "plt.bar(g3.keys() , g3.values(), color='black', alpha=0.3, edgecolor='black',hatch='', label='MD Run 3')\n",
        "plt.xlabel('Residues', fontdict={'family': 'DejaVu Sans', 'size': 14})\n",
        "plt.ylabel('Number of Occurences in trajectory %', fontdict={'family': 'DejaVu Sans', 'size': 14})\n",
        "plt.ylim(top=50)\n",
        "plt.legend(frameon=False, prop={'family': 'DejaVu Sans', 'size': 14})\n",
        "plt.savefig('histogram_g.png', dpi=600)\n",
        "plt.show()"
      ]
    }
  ],
  "metadata": {
    "colab": {
      "provenance": []
    },
    "kernelspec": {
      "display_name": "Python 3",
      "name": "python3"
    },
    "language_info": {
      "codemirror_mode": {
        "name": "ipython",
        "version": 3
      },
      "file_extension": ".py",
      "mimetype": "text/x-python",
      "name": "python",
      "nbconvert_exporter": "python",
      "pygments_lexer": "ipython3",
      "version": "3.12.1"
    }
  },
  "nbformat": 4,
  "nbformat_minor": 0
}
